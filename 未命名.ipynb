{
 "cells": [
  {
   "cell_type": "code",
   "execution_count": 9,
   "metadata": {},
   "outputs": [],
   "source": [
    "import numpy as np\n",
    "\n",
    "l = [[7,2,3], [4,8,6], [1,5,9]]"
   ]
  },
  {
   "cell_type": "code",
   "execution_count": 11,
   "metadata": {},
   "outputs": [],
   "source": [
    "# l = np.array(l)"
   ]
  },
  {
   "cell_type": "code",
   "execution_count": 13,
   "metadata": {},
   "outputs": [
    {
     "data": {
      "text/plain": [
       "array([1, 2, 3])"
      ]
     },
     "execution_count": 13,
     "metadata": {},
     "output_type": "execute_result"
    }
   ],
   "source": [
    "np.min(l, axis=0)"
   ]
  },
  {
   "cell_type": "code",
   "execution_count": 24,
   "metadata": {},
   "outputs": [],
   "source": [
    "l = [1,1,0]"
   ]
  },
  {
   "cell_type": "code",
   "execution_count": 25,
   "metadata": {},
   "outputs": [
    {
     "name": "stdout",
     "output_type": "stream",
     "text": [
      "False\n"
     ]
    }
   ],
   "source": [
    "print(0 not in l)"
   ]
  },
  {
   "cell_type": "code",
   "execution_count": 71,
   "metadata": {
    "scrolled": true
   },
   "outputs": [
    {
     "name": "stdout",
     "output_type": "stream",
     "text": [
      "[1, -1, 3, -1]\n",
      "[4, -1, -1, 10]\n",
      "[-1, 30, 9, -1]\n",
      "[-1, 4, 2, -1]\n",
      "4\n"
     ]
    }
   ],
   "source": [
    "list = [[1, 8, 3, 6], [4, 111, 999, 10], [100, 30, 9, 40], [8, 4, 2, 35]]\n",
    "top_k_index = [0 for i in range(4)]\n",
    "\n",
    "for i in range(4):#对四个列表分别求top-k\n",
    "    for j in range(2):#计算top-2\n",
    "        max_index = list[i].index(max(list[i]))#得到最大值的索引\n",
    "        list[i][max_index] = -1\n",
    "        if top_k_index[max_index] == 0:#如果该最大值不曾被标记过\n",
    "            top_k_index[max_index] = 1#将对应位置标记为1\n",
    "        elif top_k_index[max_index] == 1 and j == 1:#最大值被标记过且已得到top-k的索引\n",
    "            break\n",
    "    print(list[i])\n",
    "print(sum(top_k_index))"
   ]
  },
  {
   "cell_type": "code",
   "execution_count": 68,
   "metadata": {},
   "outputs": [
    {
     "name": "stdout",
     "output_type": "stream",
     "text": [
      "0\n",
      "1\n",
      "2\n",
      "3\n"
     ]
    }
   ],
   "source": [
    "for i in range(4):\n",
    "    print(i)"
   ]
  },
  {
   "cell_type": "code",
   "execution_count": 77,
   "metadata": {},
   "outputs": [
    {
     "name": "stdout",
     "output_type": "stream",
     "text": [
      "3\n",
      "0\n",
      "1\n",
      "2\n"
     ]
    }
   ],
   "source": [
    "layer_neuron_value = [[1, 2, 3, 4, 5, 6, 7, 8, 9, 10],          \n",
    "                      [25, 24, 23, 22, 21, 20, 10, 19, 18, 30], \n",
    "                      [20, 10, 19, 18, 30, 25, 24, 23, 22, 21]] \n",
    "print(len(layer_neuron_value))\n",
    "for i in range(len(layer_neuron_value)):\n",
    "    print(i)"
   ]
  },
  {
   "cell_type": "code",
   "execution_count": null,
   "metadata": {},
   "outputs": [],
   "source": []
  }
 ],
 "metadata": {
  "kernelspec": {
   "display_name": "Python 3",
   "language": "python",
   "name": "python3"
  },
  "language_info": {
   "codemirror_mode": {
    "name": "ipython",
    "version": 3
   },
   "file_extension": ".py",
   "mimetype": "text/x-python",
   "name": "python",
   "nbconvert_exporter": "python",
   "pygments_lexer": "ipython3",
   "version": "3.7.3"
  }
 },
 "nbformat": 4,
 "nbformat_minor": 2
}
